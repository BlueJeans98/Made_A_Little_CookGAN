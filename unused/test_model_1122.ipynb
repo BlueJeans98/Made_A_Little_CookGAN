{
 "cells": [
  {
   "cell_type": "code",
   "execution_count": 1,
   "id": "6bbc7ee5-32d5-4f19-b27d-d0719614504e",
   "metadata": {},
   "outputs": [
    {
     "data": {
      "text/plain": [
       "<module 'models_cookgan' from '/data/CS470_HnC/cookgan/models_cookgan.py'>"
      ]
     },
     "execution_count": 1,
     "metadata": {},
     "output_type": "execute_result"
    }
   ],
   "source": [
    "import torch\n",
    "from torch import device\n",
    "from PIL import Image\n",
    "import numpy as np\n",
    "from torchvision import utils as vutils\n",
    "from matplotlib import pyplot as plt\n",
    "import sys\n",
    "sys.path.append('/data/CS470_HnC/retrieval_model/')\n",
    "sys.path.append('/data/CS470_HnC/cookgan/')\n",
    "import train_retrieval\n",
    "import models_retrieval\n",
    "import train_cookgan\n",
    "import models_cookgan\n",
    "import importlib\n",
    "importlib.reload(train_retrieval)\n",
    "importlib.reload(models_retrieval)\n",
    "importlib.reload(train_cookgan)\n",
    "importlib.reload(models_cookgan)"
   ]
  },
  {
   "cell_type": "code",
   "execution_count": null,
   "id": "47b2ae3a",
   "metadata": {},
   "outputs": [],
   "source": []
  },
  {
   "cell_type": "code",
   "execution_count": 3,
   "id": "eba3988b-c658-44d5-a3a5-db1e33e1483f",
   "metadata": {},
   "outputs": [
    {
     "name": "stdout",
     "output_type": "stream",
     "text": [
      "IngredientsEncoderRNN: Embedding(35548, 300, padding_idx=0)\n"
     ]
    },
    {
     "data": {
      "text/plain": [
       "<All keys matched successfully>"
      ]
     },
     "execution_count": 3,
     "metadata": {},
     "output_type": "execute_result"
    }
   ],
   "source": [
    "text_encoder = models_retrieval.TextEncoder(\n",
    "    word2vec_file='/data/CS470_HnC/retrieval_model/models/word2vec_recipes.bin', text_info='010', hid_dim=300,\n",
    "    emb_dim=300, z_dim=1024, with_attention=2,\n",
    "    ingrs_enc_type='rnn').eval()\n",
    "text_encoder.load_state_dict(torch.load('/data/CS470_HnC/retrieval_model/wandb/run-20221115_141017-qn8zgvm8/files/00390000.ckpt')['text_encoder'])\n",
    "# text_encoder.load_state_dict(torch.load('/data/CS470_HnC/text_encoder.model'))\n",
    "\n",
    "food_type = 'salad'\n",
    "netG = models_cookgan.G_NET(levels=3).eval().requires_grad_(False)\n",
    "netG.load_state_dict(torch.load('/data/CS470_HnC/cookgan/wandb/run-20221117_162130-2ezrqode/files/160000.ckpt')['netG'])\n",
    "# netG.load_state_dict(torch.load('/data/CS470_HnC/gen_salad_cycleTxt1.0_e300.model'))\n"
   ]
  },
  {
   "cell_type": "code",
   "execution_count": 15,
   "id": "68ce57d5-17cd-4c4d-9613-6e8e0bda9bda",
   "metadata": {},
   "outputs": [
    {
     "name": "stdout",
     "output_type": "stream",
     "text": [
      "vocab_inst size = 14556\n",
      "vocab_ingr size = 1991\n"
     ]
    },
    {
     "ename": "RuntimeError",
     "evalue": "The expanded size of the tensor (18) must match the existing size (17) at non-singleton dimension 0.  Target sizes: [18, 20, 300].  Tensor sizes: [17, 1, 1]",
     "output_type": "error",
     "traceback": [
      "\u001b[0;31m---------------------------------------------------------------------------\u001b[0m",
      "\u001b[0;31mRuntimeError\u001b[0m                              Traceback (most recent call last)",
      "Cell \u001b[0;32mIn [15], line 58\u001b[0m\n\u001b[1;32m     55\u001b[0m     img \u001b[39m=\u001b[39m (img \u001b[39m-\u001b[39m img\u001b[39m.\u001b[39mmin()) \u001b[39m/\u001b[39m (img\u001b[39m.\u001b[39mmax() \u001b[39m-\u001b[39m img\u001b[39m.\u001b[39mmin())\n\u001b[1;32m     56\u001b[0m     \u001b[39mreturn\u001b[39;00m img\n\u001b[0;32m---> 58\u001b[0m img \u001b[39m=\u001b[39m generate_images([\u001b[39m'\u001b[39;49m\u001b[39mflour\u001b[39;49m\u001b[39m'\u001b[39;49m, \u001b[39m'\u001b[39;49m\u001b[39msalt\u001b[39;49m\u001b[39m'\u001b[39;49m, \u001b[39m'\u001b[39;49m\u001b[39mtomato\u001b[39;49m\u001b[39m'\u001b[39;49m], \u001b[39m1\u001b[39;49m)\n\u001b[1;32m     59\u001b[0m \u001b[39m# img = generate_images(['tender','coating_mix','lettuce','crouton','cheese','salad_dressing'],1)\u001b[39;00m\n\u001b[1;32m     60\u001b[0m \u001b[39m# img = generate_images([\"red_pepper\"], 1)\u001b[39;00m\n\u001b[1;32m     61\u001b[0m plt\u001b[39m.\u001b[39mimshow(img)\n",
      "Cell \u001b[0;32mIn [15], line 49\u001b[0m, in \u001b[0;36mgenerate_images\u001b[0;34m(ingredients, batch)\u001b[0m\n\u001b[1;32m     45\u001b[0m \u001b[39m# title = title.repeat(batch, 1)\u001b[39;00m\n\u001b[1;32m     46\u001b[0m \u001b[39m# ingredients = ingredients.repeat(batch, 1)\u001b[39;00m\n\u001b[1;32m     47\u001b[0m \u001b[39m# instructions = instructions.repeat(batch, 1, 1)\u001b[39;00m\n\u001b[1;32m     48\u001b[0m noise \u001b[39m=\u001b[39m torch\u001b[39m.\u001b[39mFloatTensor(batch, \u001b[39m100\u001b[39m)\u001b[39m.\u001b[39mnormal_(\u001b[39m0\u001b[39m, \u001b[39m1\u001b[39m)\n\u001b[0;32m---> 49\u001b[0m text_feature \u001b[39m=\u001b[39m text_encoder(title, title_len, ingredients, n_ingrs, instructions, n_insts, insts_lens)\n\u001b[1;32m     51\u001b[0m imgs, _, _ \u001b[39m=\u001b[39m netG(noise, text_feature)\n\u001b[1;32m     52\u001b[0m img \u001b[39m=\u001b[39m imgs[\u001b[39m2\u001b[39m][\u001b[39m0\u001b[39m]\u001b[39m.\u001b[39mdetach()\u001b[39m.\u001b[39mcpu()\u001b[39m.\u001b[39mnumpy()\n",
      "File \u001b[0;32m~/anaconda3/envs/ys2/lib/python3.8/site-packages/torch/nn/modules/module.py:727\u001b[0m, in \u001b[0;36mModule._call_impl\u001b[0;34m(self, *input, **kwargs)\u001b[0m\n\u001b[1;32m    725\u001b[0m     result \u001b[39m=\u001b[39m \u001b[39mself\u001b[39m\u001b[39m.\u001b[39m_slow_forward(\u001b[39m*\u001b[39m\u001b[39minput\u001b[39m, \u001b[39m*\u001b[39m\u001b[39m*\u001b[39mkwargs)\n\u001b[1;32m    726\u001b[0m \u001b[39melse\u001b[39;00m:\n\u001b[0;32m--> 727\u001b[0m     result \u001b[39m=\u001b[39m \u001b[39mself\u001b[39;49m\u001b[39m.\u001b[39;49mforward(\u001b[39m*\u001b[39;49m\u001b[39minput\u001b[39;49m, \u001b[39m*\u001b[39;49m\u001b[39m*\u001b[39;49mkwargs)\n\u001b[1;32m    728\u001b[0m \u001b[39mfor\u001b[39;00m hook \u001b[39min\u001b[39;00m itertools\u001b[39m.\u001b[39mchain(\n\u001b[1;32m    729\u001b[0m         _global_forward_hooks\u001b[39m.\u001b[39mvalues(),\n\u001b[1;32m    730\u001b[0m         \u001b[39mself\u001b[39m\u001b[39m.\u001b[39m_forward_hooks\u001b[39m.\u001b[39mvalues()):\n\u001b[1;32m    731\u001b[0m     hook_result \u001b[39m=\u001b[39m hook(\u001b[39mself\u001b[39m, \u001b[39minput\u001b[39m, result)\n",
      "File \u001b[0;32m/data/CS470_HnC/retrieval_model/models_retrieval.py:306\u001b[0m, in \u001b[0;36mTextEncoder.forward\u001b[0;34m(self, title, title_len, ingredients, n_ingrs, instructions, n_insts, insts_lens)\u001b[0m\n\u001b[1;32m    304\u001b[0m     feat_title, alpha_title \u001b[39m=\u001b[39m \u001b[39mself\u001b[39m\u001b[39m.\u001b[39msent_encoder(title, title_len)\n\u001b[1;32m    305\u001b[0m     feat_ingredients, alpha_ingredients \u001b[39m=\u001b[39m \u001b[39mself\u001b[39m\u001b[39m.\u001b[39mingrs_encoder(ingredients, n_ingrs)\n\u001b[0;32m--> 306\u001b[0m     feat_instructions, alpha_instructions, alpha_words \u001b[39m=\u001b[39m \u001b[39mself\u001b[39;49m\u001b[39m.\u001b[39;49mdoc_encoder(instructions, n_insts, insts_lens)\n\u001b[1;32m    307\u001b[0m \u001b[39melse\u001b[39;00m:\n\u001b[1;32m    308\u001b[0m     feat_title \u001b[39m=\u001b[39m \u001b[39mself\u001b[39m\u001b[39m.\u001b[39msent_encoder(title, title_len)\n",
      "File \u001b[0;32m~/anaconda3/envs/ys2/lib/python3.8/site-packages/torch/nn/modules/module.py:727\u001b[0m, in \u001b[0;36mModule._call_impl\u001b[0;34m(self, *input, **kwargs)\u001b[0m\n\u001b[1;32m    725\u001b[0m     result \u001b[39m=\u001b[39m \u001b[39mself\u001b[39m\u001b[39m.\u001b[39m_slow_forward(\u001b[39m*\u001b[39m\u001b[39minput\u001b[39m, \u001b[39m*\u001b[39m\u001b[39m*\u001b[39mkwargs)\n\u001b[1;32m    726\u001b[0m \u001b[39melse\u001b[39;00m:\n\u001b[0;32m--> 727\u001b[0m     result \u001b[39m=\u001b[39m \u001b[39mself\u001b[39;49m\u001b[39m.\u001b[39;49mforward(\u001b[39m*\u001b[39;49m\u001b[39minput\u001b[39;49m, \u001b[39m*\u001b[39;49m\u001b[39m*\u001b[39;49mkwargs)\n\u001b[1;32m    728\u001b[0m \u001b[39mfor\u001b[39;00m hook \u001b[39min\u001b[39;00m itertools\u001b[39m.\u001b[39mchain(\n\u001b[1;32m    729\u001b[0m         _global_forward_hooks\u001b[39m.\u001b[39mvalues(),\n\u001b[1;32m    730\u001b[0m         \u001b[39mself\u001b[39m\u001b[39m.\u001b[39m_forward_hooks\u001b[39m.\u001b[39mvalues()):\n\u001b[1;32m    731\u001b[0m     hook_result \u001b[39m=\u001b[39m hook(\u001b[39mself\u001b[39m, \u001b[39minput\u001b[39m, result)\n",
      "File \u001b[0;32m/data/CS470_HnC/retrieval_model/models_retrieval.py:234\u001b[0m, in \u001b[0;36mDocEncoder.forward\u001b[0;34m(self, doc_list, n_insts, n_words_each_inst)\u001b[0m\n\u001b[1;32m    231\u001b[0m sent_lns \u001b[39m=\u001b[39m n_words_each_inst[i, :n_words_each_inst[i]\u001b[39m.\u001b[39mnonzero(as_tuple\u001b[39m=\u001b[39m\u001b[39mFalse\u001b[39;00m)\u001b[39m.\u001b[39mshape[\u001b[39m0\u001b[39m]] \u001b[39m# len of each step\u001b[39;00m\n\u001b[1;32m    233\u001b[0m \u001b[39mif\u001b[39;00m \u001b[39mself\u001b[39m\u001b[39m.\u001b[39mwith_attention:\n\u001b[0;32m--> 234\u001b[0m     emb_doc, alpha \u001b[39m=\u001b[39m \u001b[39mself\u001b[39;49m\u001b[39m.\u001b[39;49msent_encoder(doc[:ln], sent_lns) \u001b[39m# [?, 2*hid_dim]\u001b[39;00m\n\u001b[1;32m    235\u001b[0m     attentions_words_each_inst\u001b[39m.\u001b[39mappend(alpha) \u001b[39m# e.g. if lns=[5,1,14,7, ...], then attentions_words_each_inst=[[5,20], [1,20], [14,20], [7,20], ...] with length=BS\u001b[39;00m\n\u001b[1;32m    236\u001b[0m \u001b[39melse\u001b[39;00m:\n",
      "File \u001b[0;32m~/anaconda3/envs/ys2/lib/python3.8/site-packages/torch/nn/modules/module.py:727\u001b[0m, in \u001b[0;36mModule._call_impl\u001b[0;34m(self, *input, **kwargs)\u001b[0m\n\u001b[1;32m    725\u001b[0m     result \u001b[39m=\u001b[39m \u001b[39mself\u001b[39m\u001b[39m.\u001b[39m_slow_forward(\u001b[39m*\u001b[39m\u001b[39minput\u001b[39m, \u001b[39m*\u001b[39m\u001b[39m*\u001b[39mkwargs)\n\u001b[1;32m    726\u001b[0m \u001b[39melse\u001b[39;00m:\n\u001b[0;32m--> 727\u001b[0m     result \u001b[39m=\u001b[39m \u001b[39mself\u001b[39;49m\u001b[39m.\u001b[39;49mforward(\u001b[39m*\u001b[39;49m\u001b[39minput\u001b[39;49m, \u001b[39m*\u001b[39;49m\u001b[39m*\u001b[39;49mkwargs)\n\u001b[1;32m    728\u001b[0m \u001b[39mfor\u001b[39;00m hook \u001b[39min\u001b[39;00m itertools\u001b[39m.\u001b[39mchain(\n\u001b[1;32m    729\u001b[0m         _global_forward_hooks\u001b[39m.\u001b[39mvalues(),\n\u001b[1;32m    730\u001b[0m         \u001b[39mself\u001b[39m\u001b[39m.\u001b[39m_forward_hooks\u001b[39m.\u001b[39mvalues()):\n\u001b[1;32m    731\u001b[0m     hook_result \u001b[39m=\u001b[39m hook(\u001b[39mself\u001b[39m, \u001b[39minput\u001b[39m, result)\n",
      "File \u001b[0;32m/data/CS470_HnC/retrieval_model/models_retrieval.py:182\u001b[0m, in \u001b[0;36mSentenceEncoder.forward\u001b[0;34m(self, sent_list, lengths)\u001b[0m\n\u001b[1;32m    180\u001b[0m sorted_len, sorted_idx \u001b[39m=\u001b[39m lengths\u001b[39m.\u001b[39msort(\u001b[39m0\u001b[39m, descending\u001b[39m=\u001b[39m\u001b[39mTrue\u001b[39;00m) \u001b[39m# sorted_idx=[BS], for sorting\u001b[39;00m\n\u001b[1;32m    181\u001b[0m _, original_idx \u001b[39m=\u001b[39m sorted_idx\u001b[39m.\u001b[39msort(\u001b[39m0\u001b[39m, descending\u001b[39m=\u001b[39m\u001b[39mFalse\u001b[39;00m) \u001b[39m# original_idx=[BS], for unsorting\u001b[39;00m\n\u001b[0;32m--> 182\u001b[0m index_sorted_idx \u001b[39m=\u001b[39m sorted_idx\u001b[39m.\u001b[39;49mview(\u001b[39m-\u001b[39;49m\u001b[39m1\u001b[39;49m,\u001b[39m1\u001b[39;49m,\u001b[39m1\u001b[39;49m)\u001b[39m.\u001b[39;49mexpand_as(x) \u001b[39m# sorted_idx=[BS, max_len, emb_dim]\u001b[39;00m\n\u001b[1;32m    183\u001b[0m sorted_inputs \u001b[39m=\u001b[39m x\u001b[39m.\u001b[39mgather(\u001b[39m0\u001b[39m, index_sorted_idx\u001b[39m.\u001b[39mlong()) \u001b[39m# sort by num_words\u001b[39;00m\n\u001b[1;32m    184\u001b[0m packed_seq \u001b[39m=\u001b[39m rnn\u001b[39m.\u001b[39mpack_padded_sequence(\n\u001b[1;32m    185\u001b[0m     sorted_inputs, sorted_len\u001b[39m.\u001b[39mcpu()\u001b[39m.\u001b[39mnumpy(), batch_first\u001b[39m=\u001b[39m\u001b[39mTrue\u001b[39;00m)\n",
      "\u001b[0;31mRuntimeError\u001b[0m: The expanded size of the tensor (18) must match the existing size (17) at non-singleton dimension 0.  Target sizes: [18, 20, 300].  Tensor sizes: [17, 1, 1]"
     ]
    }
   ],
   "source": [
    "from common import get_title_wordvec, get_ingredients_wordvec, get_instructions_wordvec\n",
    "\n",
    "def load_dict(file_path):\n",
    "    with open(file_path, 'r') as f_vocab:\n",
    "        w2i = {w.rstrip(): i+3 for i, w in enumerate(f_vocab)}\n",
    "        w2i['<end>'] = 1\n",
    "        w2i['<other>'] = 2\n",
    "    return w2i\n",
    "\n",
    "# load instructions word mapping file, used for model data preprocessing \n",
    "word2i = load_dict('/data/CS470_HnC/vocab_inst.txt')\n",
    "print('vocab_inst size =', len(word2i))\n",
    "\n",
    "# load ingredients word mapping file, used for model data preprocessing \n",
    "ingr2i = load_dict('/data/CS470_HnC/vocab_ingr.txt')\n",
    "print('vocab_ingr size =', len(ingr2i))\n",
    "\n",
    "def vectorize(recipe, word2i, ingr2i):\n",
    "    \"\"\"data preprocessing, from recipe text to one-hot inputs\n",
    "\n",
    "    Arguments:\n",
    "        recipe {dict} -- a dictionary with 'title', 'ingredients', 'instructions'\n",
    "        word2i {dict} -- word mapping for title and instructions\n",
    "        ingr2i {dict} -- ingredient mapping\n",
    "\n",
    "    Returns:\n",
    "        list -- a list of three tensors [title, ingredients and instructions]\n",
    "    \"\"\"    \n",
    "    title, title_len = get_title_wordvec(recipe, word2i) # np.int [max_len]\n",
    "    ingredients, n_ingrs = get_ingredients_wordvec(recipe, ingr2i, permute_ingrs=False) # np.int [max_len]\n",
    "    instructions, n_insts, insts_lens = get_instructions_wordvec(recipe, word2i) # np.int [max_len, max_len]\n",
    "    return [torch.tensor(x).unsqueeze(0) for x in [title, title_len, ingredients, n_ingrs, instructions, n_insts, insts_lens]]\n",
    "    \n",
    "def generate_images(ingredients, batch) :\n",
    "    title = 'dummy title'\n",
    "    # print('[DEBUG]', ingredients)\n",
    "    instructions = 'dummy instructions'\n",
    "\n",
    "    recipe = {\n",
    "        'title': title,\n",
    "        'ingredients': [x.replace(' ', '_') for x in ingredients],\n",
    "        'instructions': instructions\n",
    "    }\n",
    "    title, title_len, ingredients, n_ingrs, instructions, n_insts, insts_lens = vectorize(recipe, word2i, ingr2i)\n",
    "    # title = title.repeat(batch, 1)\n",
    "    # ingredients = ingredients.repeat(batch, 1)\n",
    "    # instructions = instructions.repeat(batch, 1, 1)\n",
    "    noise = torch.FloatTensor(batch, 100).normal_(0, 1)\n",
    "    text_feature = text_encoder(title, title_len, ingredients, n_ingrs, instructions, n_insts, insts_lens)\n",
    "    \n",
    "    imgs, _, _ = netG(noise, text_feature)\n",
    "    img = imgs[2][0].detach().cpu().numpy()\n",
    "    img = np.transpose(img, (1, 2, 0))\n",
    "    print(img.shape)\n",
    "    img = (img - img.min()) / (img.max() - img.min())\n",
    "    return img\n",
    "\n",
    "img = generate_images(['flour', 'salt', 'tomato'], 1)\n",
    "# img = generate_images(['tender','coating_mix','lettuce','crouton','cheese','salad_dressing'],1)\n",
    "# img = generate_images([\"red_pepper\"], 1)\n",
    "plt.imshow(img)"
   ]
  },
  {
   "cell_type": "code",
   "execution_count": null,
   "id": "7463d776",
   "metadata": {},
   "outputs": [
    {
     "data": {
      "text/plain": [
       "tensor([3, 4])"
      ]
     },
     "execution_count": 57,
     "metadata": {},
     "output_type": "execute_result"
    }
   ],
   "source": []
  }
 ],
 "metadata": {
  "kernelspec": {
   "display_name": "Python 3.8.13 ('ys2')",
   "language": "python",
   "name": "python3"
  },
  "language_info": {
   "codemirror_mode": {
    "name": "ipython",
    "version": 3
   },
   "file_extension": ".py",
   "mimetype": "text/x-python",
   "name": "python",
   "nbconvert_exporter": "python",
   "pygments_lexer": "ipython3",
   "version": "3.8.13"
  },
  "vscode": {
   "interpreter": {
    "hash": "17e229acddda21fe68433e56bb35a43140050cc61de425e94b8e20d79e0cdf69"
   }
  }
 },
 "nbformat": 4,
 "nbformat_minor": 5
}
