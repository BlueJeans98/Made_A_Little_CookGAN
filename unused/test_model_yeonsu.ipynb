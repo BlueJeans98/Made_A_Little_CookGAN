{
 "cells": [
  {
   "cell_type": "code",
   "execution_count": 3,
   "id": "6bbc7ee5-32d5-4f19-b27d-d0719614504e",
   "metadata": {},
   "outputs": [
    {
     "data": {
      "text/plain": [
       "<module 'models_cookgan' from '/data/CS470_HnC/cookgan/models_cookgan.py'>"
      ]
     },
     "execution_count": 3,
     "metadata": {},
     "output_type": "execute_result"
    }
   ],
   "source": [
    "import torch\n",
    "from torch import device\n",
    "from PIL import Image\n",
    "import numpy as np\n",
    "from torchvision import utils as vutils\n",
    "from matplotlib import pyplot as plt\n",
    "import sys\n",
    "sys.path.append('/data/CS470_HnC/retrieval_model/')\n",
    "sys.path.append('/data/CS470_HnC/cookgan/')\n",
    "import train_retrieval\n",
    "import models_retrieval\n",
    "import train_cookgan\n",
    "import models_cookgan\n",
    "import importlib\n",
    "importlib.reload(train_retrieval)\n",
    "importlib.reload(models_retrieval)\n",
    "importlib.reload(train_cookgan)\n",
    "importlib.reload(models_cookgan)"
   ]
  },
  {
   "cell_type": "code",
   "execution_count": 22,
   "id": "eba3988b-c658-44d5-a3a5-db1e33e1483f",
   "metadata": {},
   "outputs": [
    {
     "name": "stdout",
     "output_type": "stream",
     "text": [
      "IngredientsEncoderRNN: Embedding(35548, 300, padding_idx=0)\n"
     ]
    },
    {
     "data": {
      "text/plain": [
       "<All keys matched successfully>"
      ]
     },
     "execution_count": 22,
     "metadata": {},
     "output_type": "execute_result"
    }
   ],
   "source": [
    "text_encoder = models_retrieval.TextEncoder(\n",
    "    word2vec_file='/data/CS470_HnC/retrieval_model/models/word2vec_recipes.bin', text_info='010', hid_dim=300,\n",
    "    emb_dim=300, z_dim=1024, with_attention=2,\n",
    "    ingrs_enc_type='rnn').eval()\n",
    "\n",
    "text_encoder.load_state_dict(torch.load('/data/CS470_HnC/retrieval_model/wandb/run-20221115_141017-qn8zgvm8/files/00000000.ckpt')['text_encoder'] , strict=False)\n",
    "\n",
    "food_type = 'salad'\n",
    "netG = models_cookgan.G_NET(levels=3).eval().requires_grad_(False)\n",
    "netG.load_state_dict(torch.load('/data/CS470_HnC/cookgan/wandb/run-20221117_162130-2ezrqode/files/000000.ckpt')['netG'])"
   ]
  },
  {
   "cell_type": "code",
   "execution_count": 23,
   "id": "68ce57d5-17cd-4c4d-9613-6e8e0bda9bda",
   "metadata": {},
   "outputs": [
    {
     "name": "stdout",
     "output_type": "stream",
     "text": [
      "vocab_inst size = 14556\n",
      "vocab_ingr size = 1991\n"
     ]
    },
    {
     "ename": "TypeError",
     "evalue": "embedding(): argument 'indices' (position 2) must be Tensor, not str",
     "output_type": "error",
     "traceback": [
      "\u001b[0;31m---------------------------------------------------------------------------\u001b[0m",
      "\u001b[0;31mTypeError\u001b[0m                                 Traceback (most recent call last)",
      "Cell \u001b[0;32mIn [23], line 61\u001b[0m\n\u001b[1;32m     58\u001b[0m     img \u001b[39m=\u001b[39m (img \u001b[39m-\u001b[39m img\u001b[39m.\u001b[39mmin()) \u001b[39m/\u001b[39m (img\u001b[39m.\u001b[39mmax() \u001b[39m-\u001b[39m img\u001b[39m.\u001b[39mmin())\n\u001b[1;32m     59\u001b[0m     \u001b[39mreturn\u001b[39;00m img\n\u001b[0;32m---> 61\u001b[0m img \u001b[39m=\u001b[39m generate_images([\u001b[39m'\u001b[39;49m\u001b[39mflour\u001b[39;49m\u001b[39m'\u001b[39;49m, \u001b[39m'\u001b[39;49m\u001b[39msalt\u001b[39;49m\u001b[39m'\u001b[39;49m, \u001b[39m'\u001b[39;49m\u001b[39mtomato\u001b[39;49m\u001b[39m'\u001b[39;49m], \u001b[39m1\u001b[39;49m)\n\u001b[1;32m     62\u001b[0m plt\u001b[39m.\u001b[39mimshow(img)\n",
      "Cell \u001b[0;32mIn [23], line 51\u001b[0m, in \u001b[0;36mgenerate_images\u001b[0;34m(ingredients, batch)\u001b[0m\n\u001b[1;32m     49\u001b[0m     noise \u001b[39m=\u001b[39m torch\u001b[39m.\u001b[39mFloatTensor(batch, \u001b[39m100\u001b[39m)\u001b[39m.\u001b[39mnormal_(\u001b[39m0\u001b[39m, \u001b[39m1\u001b[39m)\n\u001b[1;32m     50\u001b[0m     \u001b[39m# print(title_vec, ingrs_vec, insts_vec)\u001b[39;00m\n\u001b[0;32m---> 51\u001b[0m     text_feature \u001b[39m=\u001b[39m text_encoder(title, title_vec, ingredients, ingrs_vec, instructions, insts_vec, insts_vec)\n\u001b[1;32m     52\u001b[0m \u001b[39m#  title, title_len, ingredients, n_ingrs, instructions, n_insts, insts_lens\u001b[39;00m\n\u001b[1;32m     54\u001b[0m     imgs, _, _ \u001b[39m=\u001b[39m netG(noise, text_feature)\n",
      "File \u001b[0;32m~/anaconda3/envs/ys2/lib/python3.8/site-packages/torch/nn/modules/module.py:727\u001b[0m, in \u001b[0;36mModule._call_impl\u001b[0;34m(self, *input, **kwargs)\u001b[0m\n\u001b[1;32m    725\u001b[0m     result \u001b[39m=\u001b[39m \u001b[39mself\u001b[39m\u001b[39m.\u001b[39m_slow_forward(\u001b[39m*\u001b[39m\u001b[39minput\u001b[39m, \u001b[39m*\u001b[39m\u001b[39m*\u001b[39mkwargs)\n\u001b[1;32m    726\u001b[0m \u001b[39melse\u001b[39;00m:\n\u001b[0;32m--> 727\u001b[0m     result \u001b[39m=\u001b[39m \u001b[39mself\u001b[39;49m\u001b[39m.\u001b[39;49mforward(\u001b[39m*\u001b[39;49m\u001b[39minput\u001b[39;49m, \u001b[39m*\u001b[39;49m\u001b[39m*\u001b[39;49mkwargs)\n\u001b[1;32m    728\u001b[0m \u001b[39mfor\u001b[39;00m hook \u001b[39min\u001b[39;00m itertools\u001b[39m.\u001b[39mchain(\n\u001b[1;32m    729\u001b[0m         _global_forward_hooks\u001b[39m.\u001b[39mvalues(),\n\u001b[1;32m    730\u001b[0m         \u001b[39mself\u001b[39m\u001b[39m.\u001b[39m_forward_hooks\u001b[39m.\u001b[39mvalues()):\n\u001b[1;32m    731\u001b[0m     hook_result \u001b[39m=\u001b[39m hook(\u001b[39mself\u001b[39m, \u001b[39minput\u001b[39m, result)\n",
      "File \u001b[0;32m/data/CS470_HnC/retrieval_model/models_retrieval.py:304\u001b[0m, in \u001b[0;36mTextEncoder.forward\u001b[0;34m(self, title, title_len, ingredients, n_ingrs, instructions, n_insts, insts_lens)\u001b[0m\n\u001b[1;32m    302\u001b[0m \u001b[39mdef\u001b[39;00m \u001b[39mforward\u001b[39m(\u001b[39mself\u001b[39m, title, title_len, ingredients, n_ingrs, instructions, n_insts, insts_lens):\n\u001b[1;32m    303\u001b[0m     \u001b[39mif\u001b[39;00m \u001b[39mself\u001b[39m\u001b[39m.\u001b[39mwith_attention:\n\u001b[0;32m--> 304\u001b[0m         feat_title, alpha_title \u001b[39m=\u001b[39m \u001b[39mself\u001b[39;49m\u001b[39m.\u001b[39;49msent_encoder(title, title_len)\n\u001b[1;32m    305\u001b[0m         feat_ingredients, alpha_ingredients \u001b[39m=\u001b[39m \u001b[39mself\u001b[39m\u001b[39m.\u001b[39mingrs_encoder(ingredients, n_ingrs)\n\u001b[1;32m    306\u001b[0m         feat_instructions, alpha_instructions, alpha_words \u001b[39m=\u001b[39m \u001b[39mself\u001b[39m\u001b[39m.\u001b[39mdoc_encoder(instructions, n_insts, insts_lens)\n",
      "File \u001b[0;32m~/anaconda3/envs/ys2/lib/python3.8/site-packages/torch/nn/modules/module.py:727\u001b[0m, in \u001b[0;36mModule._call_impl\u001b[0;34m(self, *input, **kwargs)\u001b[0m\n\u001b[1;32m    725\u001b[0m     result \u001b[39m=\u001b[39m \u001b[39mself\u001b[39m\u001b[39m.\u001b[39m_slow_forward(\u001b[39m*\u001b[39m\u001b[39minput\u001b[39m, \u001b[39m*\u001b[39m\u001b[39m*\u001b[39mkwargs)\n\u001b[1;32m    726\u001b[0m \u001b[39melse\u001b[39;00m:\n\u001b[0;32m--> 727\u001b[0m     result \u001b[39m=\u001b[39m \u001b[39mself\u001b[39;49m\u001b[39m.\u001b[39;49mforward(\u001b[39m*\u001b[39;49m\u001b[39minput\u001b[39;49m, \u001b[39m*\u001b[39;49m\u001b[39m*\u001b[39;49mkwargs)\n\u001b[1;32m    728\u001b[0m \u001b[39mfor\u001b[39;00m hook \u001b[39min\u001b[39;00m itertools\u001b[39m.\u001b[39mchain(\n\u001b[1;32m    729\u001b[0m         _global_forward_hooks\u001b[39m.\u001b[39mvalues(),\n\u001b[1;32m    730\u001b[0m         \u001b[39mself\u001b[39m\u001b[39m.\u001b[39m_forward_hooks\u001b[39m.\u001b[39mvalues()):\n\u001b[1;32m    731\u001b[0m     hook_result \u001b[39m=\u001b[39m hook(\u001b[39mself\u001b[39m, \u001b[39minput\u001b[39m, result)\n",
      "File \u001b[0;32m/data/CS470_HnC/retrieval_model/models_retrieval.py:179\u001b[0m, in \u001b[0;36mSentenceEncoder.forward\u001b[0;34m(self, sent_list, lengths)\u001b[0m\n\u001b[1;32m    176\u001b[0m \u001b[39mdef\u001b[39;00m \u001b[39mforward\u001b[39m(\u001b[39mself\u001b[39m, sent_list, lengths):\n\u001b[1;32m    177\u001b[0m     \u001b[39m# sent_list [BS, max_len]\u001b[39;00m\n\u001b[1;32m    178\u001b[0m     \u001b[39m# lengths [BS]\u001b[39;00m\n\u001b[0;32m--> 179\u001b[0m     x \u001b[39m=\u001b[39m \u001b[39mself\u001b[39;49m\u001b[39m.\u001b[39;49membed_layer(sent_list) \u001b[39m# x=[BS, max_len, emb_dim]\u001b[39;00m\n\u001b[1;32m    180\u001b[0m     sorted_len, sorted_idx \u001b[39m=\u001b[39m lengths\u001b[39m.\u001b[39msort(\u001b[39m0\u001b[39m, descending\u001b[39m=\u001b[39m\u001b[39mTrue\u001b[39;00m) \u001b[39m# sorted_idx=[BS], for sorting\u001b[39;00m\n\u001b[1;32m    181\u001b[0m     _, original_idx \u001b[39m=\u001b[39m sorted_idx\u001b[39m.\u001b[39msort(\u001b[39m0\u001b[39m, descending\u001b[39m=\u001b[39m\u001b[39mFalse\u001b[39;00m) \u001b[39m# original_idx=[BS], for unsorting\u001b[39;00m\n",
      "File \u001b[0;32m~/anaconda3/envs/ys2/lib/python3.8/site-packages/torch/nn/modules/module.py:727\u001b[0m, in \u001b[0;36mModule._call_impl\u001b[0;34m(self, *input, **kwargs)\u001b[0m\n\u001b[1;32m    725\u001b[0m     result \u001b[39m=\u001b[39m \u001b[39mself\u001b[39m\u001b[39m.\u001b[39m_slow_forward(\u001b[39m*\u001b[39m\u001b[39minput\u001b[39m, \u001b[39m*\u001b[39m\u001b[39m*\u001b[39mkwargs)\n\u001b[1;32m    726\u001b[0m \u001b[39melse\u001b[39;00m:\n\u001b[0;32m--> 727\u001b[0m     result \u001b[39m=\u001b[39m \u001b[39mself\u001b[39;49m\u001b[39m.\u001b[39;49mforward(\u001b[39m*\u001b[39;49m\u001b[39minput\u001b[39;49m, \u001b[39m*\u001b[39;49m\u001b[39m*\u001b[39;49mkwargs)\n\u001b[1;32m    728\u001b[0m \u001b[39mfor\u001b[39;00m hook \u001b[39min\u001b[39;00m itertools\u001b[39m.\u001b[39mchain(\n\u001b[1;32m    729\u001b[0m         _global_forward_hooks\u001b[39m.\u001b[39mvalues(),\n\u001b[1;32m    730\u001b[0m         \u001b[39mself\u001b[39m\u001b[39m.\u001b[39m_forward_hooks\u001b[39m.\u001b[39mvalues()):\n\u001b[1;32m    731\u001b[0m     hook_result \u001b[39m=\u001b[39m hook(\u001b[39mself\u001b[39m, \u001b[39minput\u001b[39m, result)\n",
      "File \u001b[0;32m~/anaconda3/envs/ys2/lib/python3.8/site-packages/torch/nn/modules/sparse.py:124\u001b[0m, in \u001b[0;36mEmbedding.forward\u001b[0;34m(self, input)\u001b[0m\n\u001b[1;32m    123\u001b[0m \u001b[39mdef\u001b[39;00m \u001b[39mforward\u001b[39m(\u001b[39mself\u001b[39m, \u001b[39minput\u001b[39m: Tensor) \u001b[39m-\u001b[39m\u001b[39m>\u001b[39m Tensor:\n\u001b[0;32m--> 124\u001b[0m     \u001b[39mreturn\u001b[39;00m F\u001b[39m.\u001b[39;49membedding(\n\u001b[1;32m    125\u001b[0m         \u001b[39minput\u001b[39;49m, \u001b[39mself\u001b[39;49m\u001b[39m.\u001b[39;49mweight, \u001b[39mself\u001b[39;49m\u001b[39m.\u001b[39;49mpadding_idx, \u001b[39mself\u001b[39;49m\u001b[39m.\u001b[39;49mmax_norm,\n\u001b[1;32m    126\u001b[0m         \u001b[39mself\u001b[39;49m\u001b[39m.\u001b[39;49mnorm_type, \u001b[39mself\u001b[39;49m\u001b[39m.\u001b[39;49mscale_grad_by_freq, \u001b[39mself\u001b[39;49m\u001b[39m.\u001b[39;49msparse)\n",
      "File \u001b[0;32m~/anaconda3/envs/ys2/lib/python3.8/site-packages/torch/nn/functional.py:1852\u001b[0m, in \u001b[0;36membedding\u001b[0;34m(input, weight, padding_idx, max_norm, norm_type, scale_grad_by_freq, sparse)\u001b[0m\n\u001b[1;32m   1847\u001b[0m     \u001b[39m# XXX: equivalent to\u001b[39;00m\n\u001b[1;32m   1848\u001b[0m     \u001b[39m# with torch.no_grad():\u001b[39;00m\n\u001b[1;32m   1849\u001b[0m     \u001b[39m#   torch.nembedding_renorm_\u001b[39;00m\n\u001b[1;32m   1850\u001b[0m     \u001b[39m# remove once script supports set_grad_enabled\u001b[39;00m\n\u001b[1;32m   1851\u001b[0m     _no_grad_embedding_renorm_(weight, \u001b[39minput\u001b[39m, max_norm, norm_type)\n\u001b[0;32m-> 1852\u001b[0m \u001b[39mreturn\u001b[39;00m torch\u001b[39m.\u001b[39;49membedding(weight, \u001b[39minput\u001b[39;49m, padding_idx, scale_grad_by_freq, sparse)\n",
      "\u001b[0;31mTypeError\u001b[0m: embedding(): argument 'indices' (position 2) must be Tensor, not str"
     ]
    }
   ],
   "source": [
    "from common import get_title_wordvec, get_ingredients_wordvec, get_instructions_wordvec\n",
    "\n",
    "def load_dict(file_path):\n",
    "    with open(file_path, 'r') as f_vocab:\n",
    "        w2i = {w.rstrip(): i+3 for i, w in enumerate(f_vocab)}\n",
    "        w2i['<end>'] = 1\n",
    "        w2i['<other>'] = 2\n",
    "    return w2i\n",
    "\n",
    "# load instructions word mapping file, used for model data preprocessing \n",
    "word2i = load_dict('/data/CS470_HnC/vocab_inst.txt')\n",
    "print('vocab_inst size =', len(word2i))\n",
    "\n",
    "# load ingredients word mapping file, used for model data preprocessing \n",
    "ingr2i = load_dict('/data/CS470_HnC/vocab_ingr.txt')\n",
    "print('vocab_ingr size =', len(ingr2i))\n",
    "\n",
    "def vectorize(recipe, word2i, ingr2i):\n",
    "    \"\"\"data preprocessing, from recipe text to one-hot inputs\n",
    "\n",
    "    Arguments:\n",
    "        recipe {dict} -- a dictionary with 'title', 'ingredients', 'instructions'\n",
    "        word2i {dict} -- word mapping for title and instructions\n",
    "        ingr2i {dict} -- ingredient mapping\n",
    "\n",
    "    Returns:\n",
    "        list -- a list of three tensors [title, ingredients and instructions]\n",
    "    \"\"\"    \n",
    "    title, _ = get_title_wordvec(recipe, word2i) # np.int [max_len]\n",
    "    ingredients, _ = get_ingredients_wordvec(recipe, ingr2i, permute_ingrs=False) # np.int [max_len]\n",
    "    instructions, _, _ = get_instructions_wordvec(recipe, word2i) # np.int [max_len, max_len]\n",
    "    return [torch.tensor(x).unsqueeze(0) for x in [title, ingredients, instructions]]\n",
    "    \n",
    "def generate_images(ingredients, batch) :\n",
    "    title = 'dummy title'\n",
    "    # print('[DEBUG]', ingredients)\n",
    "    instructions = 'dummy instructions'\n",
    "\n",
    "    recipe = {\n",
    "        'title': title,\n",
    "        'ingredients': [x.replace(' ', '_') for x in ingredients],\n",
    "        'instructions': instructions\n",
    "    }\n",
    "    title_vec, ingrs_vec, insts_vec = vectorize(recipe, word2i, ingr2i)\n",
    "    # print(ingrs_vec)\n",
    "    title_vec = title_vec.repeat(batch, 1)\n",
    "    ingrs_vec = ingrs_vec.repeat(batch, 1)\n",
    "    insts_vec = insts_vec.repeat(batch, 1, 1)\n",
    "    noise = torch.FloatTensor(batch, 100).normal_(0, 1)\n",
    "    text_feature = text_encoder([title_vec, ingrs_vec, insts_vec])\n",
    "    \n",
    "    imgs, _, _ = netG(noise, text_feature)\n",
    "    img = imgs[2][0].detach().cpu().numpy()\n",
    "    img = np.transpose(img, (1, 2, 0))\n",
    "    print(img.shape)\n",
    "    img = (img - img.min()) / (img.max() - img.min())\n",
    "    return img\n",
    "\n",
    "img = generate_images(['flour', 'salt', 'tomato'], 1)\n",
    "plt.imshow(img)"
   ]
  },
  {
   "cell_type": "code",
   "execution_count": 57,
   "id": "7463d776",
   "metadata": {},
   "outputs": [
    {
     "data": {
      "text/plain": [
       "tensor([3, 4])"
      ]
     },
     "execution_count": 57,
     "metadata": {},
     "output_type": "execute_result"
    }
   ],
   "source": []
  }
 ],
 "metadata": {
  "kernelspec": {
   "display_name": "Python 3.8.13 ('ys2')",
   "language": "python",
   "name": "python3"
  },
  "language_info": {
   "codemirror_mode": {
    "name": "ipython",
    "version": 3
   },
   "file_extension": ".py",
   "mimetype": "text/x-python",
   "name": "python",
   "nbconvert_exporter": "python",
   "pygments_lexer": "ipython3",
   "version": "3.8.13"
  },
  "vscode": {
   "interpreter": {
    "hash": "17e229acddda21fe68433e56bb35a43140050cc61de425e94b8e20d79e0cdf69"
   }
  }
 },
 "nbformat": 4,
 "nbformat_minor": 5
}
